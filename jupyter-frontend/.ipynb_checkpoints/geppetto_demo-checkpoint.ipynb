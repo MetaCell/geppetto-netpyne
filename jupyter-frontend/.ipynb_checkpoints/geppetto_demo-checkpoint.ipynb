{
 "cells": [
  {
   "cell_type": "code",
   "execution_count": 1,
   "metadata": {
    "collapsed": false,
    "scrolled": true
   },
   "outputs": [
    {
     "name": "stdout",
     "output_type": "stream",
     "text": [
      "Loading Model...\n",
      "Loading Model...\n",
      "Created cell 0\n",
      "Created cell 1\n",
      "Created cell 2\n",
      "Created cell 3\n",
      "Created cell 4\n",
      "Created cell 5\n",
      "Created cell 6\n",
      "Created cell 7\n",
      "Created cell 8\n",
      "Created cell 9\n",
      "Created connection between cell 9 and cell 0\n",
      "Created connection between cell 0 and cell 1\n",
      "Created connection between cell 1 and cell 2\n",
      "Created connection between cell 2 and cell 3\n",
      "Created connection between cell 3 and cell 4\n",
      "Created connection between cell 4 and cell 5\n",
      "Created connection between cell 5 and cell 6\n",
      "Created connection between cell 6 and cell 7\n",
      "Created connection between cell 7 and cell 8\n",
      "Created connection between cell 8 and cell 9\n"
     ]
    }
   ],
   "source": [
    "%load_ext autoreload\n",
    "%autoreload 2\n",
    "from RunControl import *\n",
    "from LoadAndAnalysisPanels import *\n",
    "showRunControlPanel()\n",
    "showSampleModelsPanel()\n",
    "showAnalysisPanel()"
   ]
  },
  {
   "cell_type": "code",
   "execution_count": 6,
   "metadata": {
    "collapsed": false
   },
   "outputs": [
    {
     "name": "stdout",
     "output_type": "stream",
     "text": [
      "Created cell 0\n",
      "Created cell 1\n",
      "Created cell 2\n",
      "Created cell 3\n",
      "Created cell 4\n",
      "Created cell 5\n",
      "Created cell 6\n",
      "Created cell 7\n",
      "Created cell 8\n",
      "Created cell 9\n",
      "Created connection between cell 9 and cell 0\n",
      "Created connection between cell 0 and cell 1\n",
      "Created connection between cell 1 and cell 2\n",
      "Created connection between cell 2 and cell 3\n",
      "Created connection between cell 3 and cell 4\n",
      "Created connection between cell 4 and cell 5\n",
      "Created connection between cell 5 and cell 6\n",
      "Created connection between cell 6 and cell 7\n",
      "Created connection between cell 7 and cell 8\n",
      "Created connection between cell 8 and cell 9\n"
     ]
    }
   ],
   "source": [
    "#from verysimple_cell import *\n",
    "#from simple_cell import *\n",
    "from simple_network import *"
   ]
  },
  {
   "cell_type": "code",
   "execution_count": 7,
   "metadata": {
    "collapsed": false
   },
   "outputs": [],
   "source": [
    "analysis()"
   ]
  },
  {
   "cell_type": "code",
   "execution_count": 7,
   "metadata": {
    "collapsed": false
   },
   "outputs": [
    {
     "data": {
      "text/plain": [
       "0.009999990463256836"
      ]
     },
     "execution_count": 7,
     "metadata": {},
     "output_type": "execute_result"
    }
   ],
   "source": [
    "h.t\n",
    "h._ref_t.t\n",
    "h.realtime\n",
    "h._ref_t.realtime"
   ]
  },
  {
   "cell_type": "code",
   "execution_count": 7,
   "metadata": {
    "collapsed": false
   },
   "outputs": [
    {
     "data": {
      "text/plain": [
       "<hoc.HocObject at 0x7fb9e4719f60>"
      ]
     },
     "execution_count": 7,
     "metadata": {},
     "output_type": "execute_result"
    }
   ],
   "source": [
    "h.StateTransitionEvent"
   ]
  },
  {
   "cell_type": "code",
   "execution_count": 7,
   "metadata": {
    "collapsed": false
   },
   "outputs": [],
   "source": [
    "h.stoprun = 2"
   ]
  },
  {
   "cell_type": "code",
   "execution_count": 11,
   "metadata": {
    "collapsed": false
   },
   "outputs": [
    {
     "data": {
      "text/plain": [
       "80.0"
      ]
     },
     "execution_count": 11,
     "metadata": {},
     "output_type": "execute_result"
    }
   ],
   "source": [
    "h.tstop"
   ]
  }
 ],
 "metadata": {
  "kernelspec": {
   "display_name": "Python 3",
   "language": "python",
   "name": "python3"
  },
  "language_info": {
   "codemirror_mode": {
    "name": "ipython",
    "version": 3
   },
   "file_extension": ".py",
   "mimetype": "text/x-python",
   "name": "python",
   "nbconvert_exporter": "python",
   "pygments_lexer": "ipython3",
   "version": "3.4.3"
  },
  "widgets": {
   "state": {
    "06d7f28e0955400da8cb9e18e0c045b5": {
     "views": []
    },
    "07057be099c6417cb91aa568cf32859f": {
     "views": []
    },
    "0a0c56e4a5b942e598fc53d4dda59fd9": {
     "views": []
    },
    "0c202c116f864239ae76fa4084955aa5": {
     "views": []
    },
    "13686b0ffb7f4f56bb4e75a559e4e748": {
     "views": []
    },
    "1811c566acf14e80a1849d1c6ca63aa8": {
     "views": []
    },
    "19360b07c6414d56809250b189c6019f": {
     "views": [
      {
       "cell_index": 0
      }
     ]
    },
    "19dfd3a174664e7a9a81f9babdc772f4": {
     "views": []
    },
    "1cff3aaf08634dd59f3ea5d95a4e8f61": {
     "views": []
    },
    "1f863771f4004884a0b6b7c190713188": {
     "views": []
    },
    "228eb49782d345a4ab34551b06dc637e": {
     "views": []
    },
    "25b68846b9844f0084b70c7193c8dc8c": {
     "views": [
      {
       "cell_index": 0
      }
     ]
    },
    "26014ec8eb93408a9a20812ac66e0754": {
     "views": []
    },
    "27f6bf67edba4f5ea1b63e489ea059aa": {
     "views": [
      {
       "cell_index": 0
      }
     ]
    },
    "36edcb1c01904bbaacc2c55e3f527b5c": {
     "views": []
    },
    "3af67845d6b44e86a5218e57566db462": {
     "views": []
    },
    "3f803f503b48458bb681484a2818cca1": {
     "views": []
    },
    "40f9e594aa0f40f2bcc17f9272da36eb": {
     "views": []
    },
    "45c9bb9a88694d078d48ddbaa812291d": {
     "views": []
    },
    "47da57fb32a44197bff6c21876e9859b": {
     "views": []
    },
    "5c4ba0064ba842f4a61eb8d4724bffb5": {
     "views": []
    },
    "608cf9d99ac74446a1853a5305905787": {
     "views": []
    },
    "60ec562688314586a03eb790bf1e2561": {
     "views": []
    },
    "617ecfc8d6644b20ab5393b031431c58": {
     "views": []
    },
    "6f0ec995e75b443f804085ed20ecb361": {
     "views": []
    },
    "7ec8e08ea88c4446a9c6efa7ce421ef6": {
     "views": []
    },
    "8e5365543cae44e58b0ab1afdc032e0b": {
     "views": []
    },
    "95f072345ad84d39bbf948b1d50107b5": {
     "views": []
    },
    "967607482169408fb491966e188f2bea": {
     "views": []
    },
    "a5e83af6168e42519a5a72892671318d": {
     "views": []
    },
    "aad33c44d3514049983135568a236c11": {
     "views": []
    },
    "b03ee1497dd7485caebc767b9f06fb81": {
     "views": []
    },
    "b617079b83524b7eaf2c811599ac0577": {
     "views": []
    },
    "be812b4f0b4141b899e723865ca13d92": {
     "views": []
    },
    "bf3adae28f194784ab46123b0a2608c3": {
     "views": []
    },
    "c3c695ef3e7541958df1d283608ba766": {
     "views": []
    },
    "c55709e40d694f19909a0e2de402e119": {
     "views": []
    },
    "d0858580262f43528e41c6c4f4f60b08": {
     "views": []
    },
    "d3e7265209bf4c6db42b58d86c26c943": {
     "views": []
    },
    "dcdb10b34460419da0f7dbe6558fe9d2": {
     "views": []
    },
    "df350eb9424745f881a605c924391222": {
     "views": []
    },
    "f24a81d29622451d8bda6f9d5774ccab": {
     "views": []
    },
    "f2d537419528490887bc2fd95d6822d6": {
     "views": []
    },
    "ffd5cbd0358647128623777a302c2650": {
     "views": []
    }
   },
   "version": "1.1.2"
  }
 },
 "nbformat": 4,
 "nbformat_minor": 0
}
