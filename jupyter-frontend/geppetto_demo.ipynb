{
 "cells": [
  {
   "cell_type": "code",
   "execution_count": 1,
   "metadata": {
    "collapsed": false,
    "scrolled": true
   },
   "outputs": [],
   "source": [
    "%load_ext autoreload\n",
    "%autoreload 2\n",
    "from RunControl import *\n",
    "from LoadAndAnalysisPanels import *\n",
    "showRunControlPanel()\n",
    "showSampleModelsPanel()\n",
    "showAnalysisPanel()"
   ]
  },
  {
   "cell_type": "code",
   "execution_count": 2,
   "metadata": {
    "collapsed": false,
    "scrolled": true
   },
   "outputs": [
    {
     "name": "stdout",
     "output_type": "stream",
     "text": [
      "Loading Model...\n"
     ]
    }
   ],
   "source": [
    "from verysimple_cell import *\n",
    "#from simple_cell import *\n",
    "#from simple_network import *"
   ]
  },
  {
   "cell_type": "code",
   "execution_count": 3,
   "metadata": {
    "collapsed": false
   },
   "outputs": [],
   "source": [
    "analysis()"
   ]
  },
  {
   "cell_type": "code",
   "execution_count": 7,
   "metadata": {
    "collapsed": false
   },
   "outputs": [
    {
     "data": {
      "text/plain": [
       "0.009999990463256836"
      ]
     },
     "execution_count": 7,
     "metadata": {},
     "output_type": "execute_result"
    }
   ],
   "source": [
    "h.t\n",
    "h._ref_t.t\n",
    "h.realtime\n",
    "h._ref_t.realtime"
   ]
  },
  {
   "cell_type": "code",
   "execution_count": 7,
   "metadata": {
    "collapsed": false
   },
   "outputs": [
    {
     "data": {
      "text/plain": [
       "<hoc.HocObject at 0x7fb9e4719f60>"
      ]
     },
     "execution_count": 7,
     "metadata": {},
     "output_type": "execute_result"
    }
   ],
   "source": [
    "h.StateTransitionEvent"
   ]
  },
  {
   "cell_type": "code",
   "execution_count": 7,
   "metadata": {
    "collapsed": false
   },
   "outputs": [],
   "source": [
    "h.stoprun = 2"
   ]
  },
  {
   "cell_type": "code",
   "execution_count": 7,
   "metadata": {
    "collapsed": false
   },
   "outputs": [
    {
     "data": {
      "text/plain": [
       "65.0"
      ]
     },
     "execution_count": 7,
     "metadata": {},
     "output_type": "execute_result"
    }
   ],
   "source": [
    "h.tstop"
   ]
  },
  {
   "cell_type": "code",
   "execution_count": 1,
   "metadata": {
    "collapsed": false
   },
   "outputs": [
    {
     "name": "stdout",
     "output_type": "stream",
     "text": [
      "here\n",
      "there\n"
     ]
    }
   ],
   "source": [
    "from geppetto_connector import *"
   ]
  },
  {
   "cell_type": "code",
   "execution_count": 2,
   "metadata": {
    "collapsed": false
   },
   "outputs": [
    {
     "ename": "NameError",
     "evalue": "name 'IPython' is not defined",
     "output_type": "error",
     "traceback": [
      "\u001b[1;31m\u001b[0m",
      "\u001b[1;31mNameError\u001b[0mTraceback (most recent call last)",
      "\u001b[1;32m<ipython-input-2-1126357c7645>\u001b[0m in \u001b[0;36m<module>\u001b[1;34m()\u001b[0m\n\u001b[1;32m----> 1\u001b[1;33m \u001b[0mIPython\u001b[0m\u001b[1;33m.\u001b[0m\u001b[0mnotebook\u001b[0m\u001b[1;33m.\u001b[0m\u001b[0mconfig\u001b[0m\u001b[1;33m\u001b[0m\u001b[0m\n\u001b[0m",
      "\u001b[1;31mNameError\u001b[0m: name 'IPython' is not defined"
     ]
    }
   ],
   "source": [
    "IPython.notebook.config"
   ]
  },
  {
   "cell_type": "code",
   "execution_count": null,
   "metadata": {
    "collapsed": true
   },
   "outputs": [],
   "source": []
  }
 ],
 "metadata": {
  "kernelspec": {
   "display_name": "Python 3",
   "language": "python",
   "name": "python3"
  },
  "language_info": {
   "codemirror_mode": {
    "name": "ipython",
    "version": 3
   },
   "file_extension": ".py",
   "mimetype": "text/x-python",
   "name": "python",
   "nbconvert_exporter": "python",
   "pygments_lexer": "ipython3",
   "version": "3.4.3"
  },
  "widgets": {
   "state": {
    "02a302d02892483797a9e538ed954561": {
     "views": []
    },
    "043f9d5431f1414cafb05b0123772e83": {
     "views": []
    },
    "07c6ee1240c94b47ace159ea11645f8f": {
     "views": []
    },
    "1b918f8d4f684dc79c48b2bc58de0d7e": {
     "views": []
    },
    "207311fed7814fe19c46dd052bf1e0c3": {
     "views": []
    },
    "35c8cddf64ec4f35a185a77b52619d5f": {
     "views": []
    },
    "368ddb1555014c86b7d6665d5ab9c693": {
     "views": []
    },
    "3a02c3226bb346c48492ace9e3ea6efc": {
     "views": []
    },
    "3af528d98ed84e7cbba3c3d3b0c473be": {
     "views": []
    },
    "3d215d97031b45a783feffa9e8f783db": {
     "views": []
    },
    "3d34f3edb6c1419aa475889ae65cbb42": {
     "views": []
    },
    "4af40f6582e64e83880f84aff9498c2d": {
     "views": []
    },
    "520c529779fa41f1987d05f0dfa00ce7": {
     "views": []
    },
    "5663824fb72b4d7b8e744d06ab559df3": {
     "views": []
    },
    "6009a6f6d0e847fc89e54f0a93d627af": {
     "views": []
    },
    "719278be357143099ab76d66765c71ae": {
     "views": []
    },
    "78e20a8d247d4095a19a6382df2b8b9e": {
     "views": []
    },
    "79244b9b65924a878a58c148b37bc749": {
     "views": [
      {
       "cell_index": 0
      }
     ]
    },
    "86af11ec4259437495eae6e5637d5215": {
     "views": []
    },
    "86fda4031ca74d698c580c2998599549": {
     "views": []
    },
    "885c890b783847cfa52ea315a98ae523": {
     "views": []
    },
    "987a38782bab4545be30292cdd2ce55d": {
     "views": [
      {
       "cell_index": 0
      }
     ]
    },
    "99364d997ae0468aa2ea4775a9f6a758": {
     "views": []
    },
    "9a0a1d274e5a409c89b8d798bed8b0e4": {
     "views": []
    },
    "a515a4ba99e241e48841e5d5b2f9cfc4": {
     "views": []
    },
    "a53e6ee7f2004a48a613e007330a5a30": {
     "views": []
    },
    "b1b1f1ce105b41dca3f70823473f48bf": {
     "views": []
    },
    "b693d713f5b144569d2b0c936c993719": {
     "views": []
    },
    "c0b058c96a2044fb91788cddbd95b4a4": {
     "views": []
    },
    "c5c3a9cc138349d091ee49dc4b8f3257": {
     "views": [
      {
       "cell_index": 0
      }
     ]
    },
    "c9529a965a8f41d1901ff73518b9d28d": {
     "views": []
    },
    "ca0a6c0e9f3d4a55a4ea689773e75c17": {
     "views": []
    },
    "ca16f8c9a5644d1aa95d01e824061e7a": {
     "views": []
    },
    "cafb3bba939640cf910e948f0b092062": {
     "views": []
    },
    "cbe5fbc843844a05b3fa406e50527863": {
     "views": []
    },
    "d4dd7fda30f4491ca90e10bec21e77c1": {
     "views": []
    },
    "d551eb47ec9e4cd4a5cd6be2331f8314": {
     "views": []
    },
    "e0afff2d934043248a2ee8d98cfd734f": {
     "views": []
    },
    "e0bd83b2d4374b8ea48de9174fddc8e4": {
     "views": []
    },
    "e2548adced874923a0c0810b472b4de1": {
     "views": []
    },
    "f517174da8184b91ac1427ca62ee88fe": {
     "views": []
    },
    "f582be078bc146f79e19ea2373370fab": {
     "views": []
    },
    "f96bf50ea7c3438a94478a1d41c6fb6b": {
     "views": []
    },
    "f9d123e4e4664441aae76c73f0176539": {
     "views": []
    }
   },
   "version": "1.1.2"
  }
 },
 "nbformat": 4,
 "nbformat_minor": 0
}
